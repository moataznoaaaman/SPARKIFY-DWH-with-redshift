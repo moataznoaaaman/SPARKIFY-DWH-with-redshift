{
 "cells": [
  {
   "cell_type": "code",
   "execution_count": 1,
   "metadata": {},
   "outputs": [],
   "source": [
    "import pandas as pd\n",
    "import boto3\n",
    "import json\n",
    "import configparser"
   ]
  },
  {
   "cell_type": "markdown",
   "metadata": {},
   "source": [
    "## Loading parameters from the config"
   ]
  },
  {
   "cell_type": "code",
   "execution_count": 2,
   "metadata": {},
   "outputs": [],
   "source": [
    "config = configparser.ConfigParser()\n",
    "config.read_file(open('dwh.cfg'))\n",
    "\n",
    "#AWS Credentials\n",
    "KEY = config.get('AWS', 'KEY')\n",
    "SECRET = config.get('AWS', 'SECRET')\n",
    "\n",
    "#IAM ROLE \n",
    "DWH_IAM_ROLE_NAME = config.get('CLUSTER', 'DWH_IAM_ROLE_NAME')\n",
    "\n",
    "#CLUSTER\n",
    "DWH_CLUSTER_IDENTIFIER = config.get('CLUSTER', 'DWH_CLUSTER_IDENTIFIER')\n",
    "DWH_CLUSTER_TYPE = config.get('CLUSTER', 'DWH_CLUSTER_TYPE')\n",
    "DWH_NODE_TYPE = config.get('CLUSTER', 'DWH_NODE_TYPE')\n",
    "DWH_NUM_NODES = config.get('CLUSTER', 'DWH_NUM_NODES')\n",
    "\n",
    "#DATABASE\n",
    "DWH_DB = config.get('CLUSTER', 'DB_NAME')\n",
    "DWH_DB_USER = config.get('CLUSTER', 'DB_USER')\n",
    "DWH_DB_PASSWORD = config.get('CLUSTER', 'DB_PASSWORD')\n",
    "DWH_PORT = config.get('CLUSTER', 'DB_PORT')"
   ]
  },
  {
   "cell_type": "markdown",
   "metadata": {},
   "source": [
    "##  Importing the clients and resources"
   ]
  },
  {
   "cell_type": "code",
   "execution_count": 3,
   "metadata": {},
   "outputs": [],
   "source": [
    "ec2 = boto3.resource('ec2',\n",
    "                       region_name=\"us-west-2\",\n",
    "                       aws_access_key_id=KEY,\n",
    "                       aws_secret_access_key=SECRET\n",
    "                    )\n",
    "\n",
    "iam = boto3.client('iam',aws_access_key_id=KEY,\n",
    "                     aws_secret_access_key=SECRET,\n",
    "                     region_name='us-west-2'\n",
    "                  )\n",
    "\n",
    "redshift = boto3.client('redshift',\n",
    "                       region_name=\"us-west-2\",\n",
    "                       aws_access_key_id=KEY,\n",
    "                       aws_secret_access_key=SECRET\n",
    "                       )"
   ]
  },
  {
   "cell_type": "markdown",
   "metadata": {},
   "source": [
    "## Creating a role for the cluster and attaching a s3 read only policy to it"
   ]
  },
  {
   "cell_type": "code",
   "execution_count": 4,
   "metadata": {},
   "outputs": [
    {
     "name": "stdout",
     "output_type": "stream",
     "text": [
      "Creating a new IAM Role\n",
      "Attaching Policy\n",
      "200\n",
      "Get the IAM role ARN\n",
      "arn:aws:iam::559253790134:role/readfroms3\n"
     ]
    }
   ],
   "source": [
    "try:\n",
    "    print(\"Creating a new IAM Role\") \n",
    "    dwhRole = iam.create_role(\n",
    "        Path='/',\n",
    "        RoleName=DWH_IAM_ROLE_NAME,\n",
    "        Description = \"Allows Redshift clusters to call AWS services on your behalf.\",\n",
    "        AssumeRolePolicyDocument=json.dumps(\n",
    "            {'Statement': [{'Action': 'sts:AssumeRole',\n",
    "               'Effect': 'Allow',\n",
    "               'Principal': {'Service': 'redshift.amazonaws.com'}}],\n",
    "             'Version': '2012-10-17'})\n",
    "    )    \n",
    "except Exception as e:\n",
    "    print(e)\n",
    "    \n",
    "    \n",
    "print(\"Attaching Policy\")\n",
    "\n",
    "httpstatus = iam.attach_role_policy(RoleName=DWH_IAM_ROLE_NAME,\n",
    "                       PolicyArn=\"arn:aws:iam::aws:policy/AmazonS3ReadOnlyAccess\"\n",
    "                      )['ResponseMetadata']['HTTPStatusCode']\n",
    "print(httpstatus)\n",
    "\n",
    "print(\"Get the IAM role ARN\")\n",
    "roleArn = iam.get_role(RoleName=DWH_IAM_ROLE_NAME)['Role']['Arn']\n",
    "print(roleArn)"
   ]
  },
  {
   "cell_type": "markdown",
   "metadata": {},
   "source": [
    "## creating the redshift cluster"
   ]
  },
  {
   "cell_type": "code",
   "execution_count": 5,
   "metadata": {},
   "outputs": [],
   "source": [
    "try:\n",
    "    response = redshift.create_cluster(        \n",
    "        #HW\n",
    "        ClusterType=DWH_CLUSTER_TYPE,\n",
    "        NodeType=DWH_NODE_TYPE,\n",
    "        NumberOfNodes=int(DWH_NUM_NODES),\n",
    "\n",
    "        #Identifiers & Credentials\n",
    "        DBName=DWH_DB,\n",
    "        ClusterIdentifier=DWH_CLUSTER_IDENTIFIER,\n",
    "        MasterUsername=DWH_DB_USER,\n",
    "        MasterUserPassword=DWH_DB_PASSWORD,\n",
    "        \n",
    "        #Roles (for s3 access)\n",
    "        IamRoles=[roleArn]  \n",
    "    )\n",
    "except Exception as e:\n",
    "    print(e)"
   ]
  },
  {
   "cell_type": "markdown",
   "metadata": {},
   "source": [
    "### checking the status of the cluster"
   ]
  },
  {
   "cell_type": "code",
   "execution_count": 6,
   "metadata": {},
   "outputs": [
    {
     "name": "stdout",
     "output_type": "stream",
     "text": [
      "available\n"
     ]
    }
   ],
   "source": [
    "while True:\n",
    "    myClusterProps = redshift.describe_clusters(ClusterIdentifier=DWH_CLUSTER_IDENTIFIER)['Clusters'][0]\n",
    "    if myClusterProps['ClusterStatus'] == \"available\":\n",
    "        break\n",
    "print(myClusterProps['ClusterStatus'])"
   ]
  },
  {
   "cell_type": "markdown",
   "metadata": {},
   "source": [
    "### getting the cluster endpoint and role arn"
   ]
  },
  {
   "cell_type": "code",
   "execution_count": 7,
   "metadata": {},
   "outputs": [
    {
     "name": "stdout",
     "output_type": "stream",
     "text": [
      "DWH_ENDPOINT ::  sparkify.cqa4vd5eex7x.us-west-2.redshift.amazonaws.com\n",
      "DWH_ROLE_ARN ::  arn:aws:iam::559253790134:role/readfroms3\n"
     ]
    }
   ],
   "source": [
    "DWH_ENDPOINT = myClusterProps['Endpoint']['Address']\n",
    "DWH_ROLE_ARN = myClusterProps['IamRoles'][0]['IamRoleArn']\n",
    "print(\"DWH_ENDPOINT :: \", DWH_ENDPOINT)\n",
    "print(\"DWH_ROLE_ARN :: \", DWH_ROLE_ARN)"
   ]
  },
  {
   "cell_type": "markdown",
   "metadata": {},
   "source": [
    "## For cleaning the resources"
   ]
  },
  {
   "cell_type": "code",
   "execution_count": 9,
   "metadata": {},
   "outputs": [
    {
     "data": {
      "text/plain": [
       "{'Cluster': {'ClusterIdentifier': 'sparkify',\n",
       "  'NodeType': 'dc2.large',\n",
       "  'ClusterStatus': 'deleting',\n",
       "  'ClusterAvailabilityStatus': 'Modifying',\n",
       "  'MasterUsername': 'moataz',\n",
       "  'DBName': 'sparkifydb',\n",
       "  'Endpoint': {'Address': 'sparkify.cqa4vd5eex7x.us-west-2.redshift.amazonaws.com',\n",
       "   'Port': 5439},\n",
       "  'ClusterCreateTime': datetime.datetime(2022, 9, 18, 22, 23, 5, 733000, tzinfo=tzutc()),\n",
       "  'AutomatedSnapshotRetentionPeriod': 1,\n",
       "  'ManualSnapshotRetentionPeriod': -1,\n",
       "  'ClusterSecurityGroups': [],\n",
       "  'VpcSecurityGroups': [{'VpcSecurityGroupId': 'sg-0400aa0192f780313',\n",
       "    'Status': 'active'}],\n",
       "  'ClusterParameterGroups': [{'ParameterGroupName': 'default.redshift-1.0',\n",
       "    'ParameterApplyStatus': 'in-sync'}],\n",
       "  'ClusterSubnetGroupName': 'default',\n",
       "  'VpcId': 'vpc-081a4aa5844425d7c',\n",
       "  'AvailabilityZone': 'us-west-2d',\n",
       "  'PreferredMaintenanceWindow': 'tue:06:00-tue:06:30',\n",
       "  'PendingModifiedValues': {},\n",
       "  'ClusterVersion': '1.0',\n",
       "  'AllowVersionUpgrade': True,\n",
       "  'NumberOfNodes': 4,\n",
       "  'PubliclyAccessible': True,\n",
       "  'Encrypted': False,\n",
       "  'Tags': [],\n",
       "  'EnhancedVpcRouting': False,\n",
       "  'IamRoles': [{'IamRoleArn': 'arn:aws:iam::559253790134:role/readfroms3',\n",
       "    'ApplyStatus': 'in-sync'}],\n",
       "  'MaintenanceTrackName': 'current',\n",
       "  'DeferredMaintenanceWindows': [],\n",
       "  'NextMaintenanceWindowStartTime': datetime.datetime(2022, 9, 20, 6, 0, tzinfo=tzutc()),\n",
       "  'AquaConfiguration': {'AquaStatus': 'disabled',\n",
       "   'AquaConfigurationStatus': 'auto'}},\n",
       " 'ResponseMetadata': {'RequestId': '275b9c11-0d0e-4a23-af38-b1e2f214fc4b',\n",
       "  'HTTPStatusCode': 200,\n",
       "  'HTTPHeaders': {'x-amzn-requestid': '275b9c11-0d0e-4a23-af38-b1e2f214fc4b',\n",
       "   'content-type': 'text/xml',\n",
       "   'content-length': '2627',\n",
       "   'vary': 'accept-encoding',\n",
       "   'date': 'Sun, 18 Sep 2022 22:27:14 GMT'},\n",
       "  'RetryAttempts': 0}}"
      ]
     },
     "execution_count": 9,
     "metadata": {},
     "output_type": "execute_result"
    }
   ],
   "source": [
    "redshift.delete_cluster( ClusterIdentifier=DWH_CLUSTER_IDENTIFIER,  SkipFinalClusterSnapshot=True)"
   ]
  },
  {
   "cell_type": "code",
   "execution_count": 10,
   "metadata": {},
   "outputs": [
    {
     "name": "stdout",
     "output_type": "stream",
     "text": [
      "deleting\n"
     ]
    }
   ],
   "source": [
    "myClusterProps = redshift.describe_clusters(ClusterIdentifier=DWH_CLUSTER_IDENTIFIER)['Clusters'][0]\n",
    "print(myClusterProps['ClusterStatus'])"
   ]
  },
  {
   "cell_type": "code",
   "execution_count": 11,
   "metadata": {},
   "outputs": [
    {
     "data": {
      "text/plain": [
       "{'ResponseMetadata': {'RequestId': '72d3e0ee-fe5c-421d-aa65-6b430d1a01d1',\n",
       "  'HTTPStatusCode': 200,\n",
       "  'HTTPHeaders': {'x-amzn-requestid': '72d3e0ee-fe5c-421d-aa65-6b430d1a01d1',\n",
       "   'content-type': 'text/xml',\n",
       "   'content-length': '200',\n",
       "   'date': 'Sun, 18 Sep 2022 22:27:28 GMT'},\n",
       "  'RetryAttempts': 0}}"
      ]
     },
     "execution_count": 11,
     "metadata": {},
     "output_type": "execute_result"
    }
   ],
   "source": [
    "iam.detach_role_policy(RoleName=DWH_IAM_ROLE_NAME, PolicyArn=\"arn:aws:iam::aws:policy/AmazonS3ReadOnlyAccess\")\n",
    "iam.delete_role(RoleName=DWH_IAM_ROLE_NAME)"
   ]
  },
  {
   "cell_type": "markdown",
   "metadata": {},
   "source": [
    "# verifyng the tables"
   ]
  },
  {
   "cell_type": "code",
   "execution_count": 67,
   "metadata": {},
   "outputs": [
    {
     "name": "stdout",
     "output_type": "stream",
     "text": [
      "(13, datetime.datetime(2018, 11, 3, 16, 24, 53), '95', 'paid', None, None, 152, 'Winston-Salem, NC', '\"Mozilla/5.0 (iPhone; CPU iPhone OS 7_1_2 like Mac OS X) AppleWebKit/537.51.2 (KHTML, like Gecko) Version/7.0 Mobile/11D257 Safari/9537.53\"')\n",
      "///////////////////////////////////////////////////////////\n",
      "(6820,)\n",
      "///////////////////////////////////////////////////////////\n",
      "########################################################################\n",
      "('6', 'Cecilia', 'Owens', 'F', 'free')\n",
      "///////////////////////////////////////////////////////////\n",
      "(104,)\n",
      "///////////////////////////////////////////////////////////\n",
      "########################################################################\n",
      "('SOEKAZG12AB018837E', \"I'll Slap Your Face (Entertainment USA Theme)\", 'ARSVTNL1187B992A91', 2001, 129.85424)\n",
      "///////////////////////////////////////////////////////////\n",
      "(24,)\n",
      "///////////////////////////////////////////////////////////\n",
      "########################################################################\n",
      "(datetime.datetime(2018, 11, 3, 15, 59, 38), 15, 3, 44, 11, 2018, 6)\n",
      "///////////////////////////////////////////////////////////\n",
      "(6820,)\n",
      "///////////////////////////////////////////////////////////\n"
     ]
    }
   ],
   "source": [
    "import psycopg2\n",
    "config = configparser.ConfigParser()\n",
    "config.read_file(open('dwh.cfg'))\n",
    "#Credentials\n",
    "host = config.get('CLUSTER','HOST')\n",
    "dbname = config.get('CLUSTER','DB_NAME')\n",
    "user = config.get('CLUSTER','DB_USER')\n",
    "password = config.get('CLUSTER','DB_PASSWORD')\n",
    "port = config.get('CLUSTER','DB_PORT')\n",
    "\n",
    "conn = psycopg2.connect(\"host={} dbname={} user={} password={} port={}\".format(host, dbname, user, password, port))\n",
    "cur = conn.cursor()\n",
    "\n",
    "\n",
    "query1 = \"select count(*) from staging_events where userId is not null\"\n",
    "query2 = \"select * from staging_songs limit 1\"\n",
    "errorquery = \"select colname, type, err_code, err_reason from stl_load_errors\"\n",
    "\n",
    "songplayq1 = \"select * from songplays limit 1\"\n",
    "songplayq2 = \"select count(*) from songplays\"\n",
    "\n",
    "userq1 = \"select * from users limit 1\"\n",
    "userq2 = \"select count(*) from users\"\n",
    "\n",
    "songq1 = \"select * from songs limit 1\"\n",
    "songq2 = \"select count(*) from songs\"\n",
    "\n",
    "artistq1 = \"select * from artists limit 1\"\n",
    "artistq2 = \"select count(*) from artists\"\n",
    "\n",
    "timeq1 = \"select * from time limit 1\"\n",
    "timeq2 = \"select count(*) from time\"\n",
    "\n",
    "\n",
    "\n",
    "def exco(q):\n",
    "    cur.execute(q)\n",
    "    conn.commit()\n",
    "    results = cur.fetchone()\n",
    "    while results:\n",
    "        print(results)\n",
    "        results = cur.fetchone()\n",
    "    print(\"///////////////////////////////////////////////////////////\")\n",
    "\n",
    "exco(songplayq1)\n",
    "exco(songplayq2)\n",
    "print(\"########################################################################\")\n",
    "\n",
    "exco(userq1)\n",
    "exco(userq2)\n",
    "print(\"########################################################################\")\n",
    "\n",
    "exco(songq1)\n",
    "exco(songq2)\n",
    "print(\"########################################################################\")\n",
    "\n",
    "exco(timeq1)\n",
    "exco(timeq2)\n",
    "\n",
    "\n",
    "# exco(query1)\n",
    "# exco(errorquery)\n",
    "\n",
    "\n",
    "\n"
   ]
  }
 ],
 "metadata": {
  "kernelspec": {
   "display_name": "Python 3.9.7 ('base')",
   "language": "python",
   "name": "python3"
  },
  "language_info": {
   "codemirror_mode": {
    "name": "ipython",
    "version": 3
   },
   "file_extension": ".py",
   "mimetype": "text/x-python",
   "name": "python",
   "nbconvert_exporter": "python",
   "pygments_lexer": "ipython3",
   "version": "3.9.7"
  },
  "orig_nbformat": 4,
  "vscode": {
   "interpreter": {
    "hash": "1726da39a520f1c3d94806386726273a17ac38360a99c45b9d4d4a09414e9317"
   }
  }
 },
 "nbformat": 4,
 "nbformat_minor": 2
}
